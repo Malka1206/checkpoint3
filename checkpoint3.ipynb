{
 "cells": [
  {
   "cell_type": "code",
   "execution_count": 1,
   "id": "664de0e2",
   "metadata": {
    "scrolled": true
   },
   "outputs": [
    {
     "name": "stdout",
     "output_type": "stream",
     "text": [
      "insert your list lengh : 4\n",
      "insert the  element in your list : 1\n",
      "insert the  element in your list : 6\n",
      "insert the  element in your list : 5\n",
      "insert the  element in your list : 3\n",
      "[1, 6, 5, 3]\n",
      "90\n"
     ]
    }
   ],
   "source": [
    "#question1:\n",
    "\n",
    "t=int(input(\"insert your list lengh : \"))\n",
    "l=[]\n",
    "for i in range (0,t):\n",
    "   \n",
    "    s=int(input(\"insert the  element in your list : \"))\n",
    "    l.append(s)\n",
    "s=1\n",
    "print(l)\n",
    "for x in l:\n",
    "    s=s*x\n",
    "print(s)\n",
    "    \n"
   ]
  },
  {
   "cell_type": "code",
   "execution_count": 7,
   "id": "3d6e0af3",
   "metadata": {},
   "outputs": [
    {
     "name": "stdout",
     "output_type": "stream",
     "text": [
      "insert your list lengh : 3\n",
      "insert the value1 in your tuple number : 9\n",
      "insert the value2 in your tuple : 1\n",
      "insert the value1 in your tuple number : 5\n",
      "insert the value2 in your tuple : 2\n",
      "insert the value1 in your tuple number : 8\n",
      "insert the value2 in your tuple : 3\n",
      "[(9, 1), (5, 2), (8, 3)]\n",
      "[(9, 1), (5, 2), (8, 3)]\n"
     ]
    }
   ],
   "source": [
    "#question2\n",
    "t=int(input(\"insert your list lengh : \"))\n",
    "while t<=0:\n",
    "    t=int(input(\"insert your list lengh : \"))\n",
    "l=[]\n",
    "for i in range (t):\n",
    "    s=int(input(\"insert the value1 in your tuple number : \"))\n",
    "    s1=int(input(\"insert the value2 in your tuple : \"))\n",
    "    tu=(s,s1)\n",
    "    l.append(tu)\n",
    "print(l)\n",
    "def keysecond(k):\n",
    "    k=k[1]\n",
    "    return(k)\n",
    "l.sort(key=keysecond)\n",
    "print(l)\n",
    "    \n",
    "\n"
   ]
  },
  {
   "cell_type": "code",
   "execution_count": 62,
   "id": "071fe599",
   "metadata": {},
   "outputs": [
    {
     "name": "stdout",
     "output_type": "stream",
     "text": [
      "insert your dictionarys lengh : 2\n",
      "insert a name of key in your dictionarys:a\n",
      "insert a value of in your dictionary1:1\n",
      "insert a value of in your dictionary2:3\n",
      "insert a name of key in your dictionarys:b\n",
      "insert a value of in your dictionary1:3\n",
      "insert a value of in your dictionary2:2\n",
      "{'a': 1, 'b': 3}\n",
      "{'a': 3, 'b': 2}\n",
      "{'a': 4, 'b': 5}\n"
     ]
    }
   ],
   "source": [
    "#question3\n",
    "t1=int(input(\"insert your dictionarys lengh : \"))\n",
    "while t1<=0:\n",
    "    t1=int(input(\"insert your dictionarys lengh : \"))\n",
    "d1={}\n",
    "d2={}\n",
    "for i in range (t1):\n",
    "    s=input(\"insert a name of key in your dictionarys:\")\n",
    "    s1=int(input(\"insert a value in your dictionary1:\"))\n",
    "    s2=int(input(\"insert a value in your dictionary2:\"))\n",
    "    d1[s]=s1\n",
    "    d2[s]=s2\n",
    "print(d1)\n",
    "print(d2)\n",
    "d3={}\n",
    "for keys in d1.keys():\n",
    "    d3[keys]=d1[keys]+d2[keys]\n",
    "print(d3)\n",
    "    \n",
    "    "
   ]
  },
  {
   "cell_type": "code",
   "execution_count": 10,
   "id": "b25fff3a",
   "metadata": {},
   "outputs": [
    {
     "name": "stdout",
     "output_type": "stream",
     "text": [
      "insert your list lenght:8\n",
      "{1: 1, 2: 4, 3: 9, 4: 16, 5: 25, 6: 36, 7: 49, 8: 64}\n"
     ]
    }
   ],
   "source": [
    "#question4:\n",
    "l=int(input(\"insert your list lenght:\"))\n",
    "t={}\n",
    "for i in range (1,l+1):\n",
    "    t[i]=i*i\n",
    "print(t)"
   ]
  },
  {
   "cell_type": "code",
   "execution_count": 24,
   "id": "04bcab5a",
   "metadata": {},
   "outputs": [
    {
     "name": "stdout",
     "output_type": "stream",
     "text": [
      "insert your list lengh : 3\n",
      "insert the value2 in your tuple : 12.20\n",
      "insert the value2 in your tuple : 15.10\n",
      "insert the value2 in your tuple : 24.5\n",
      "[('item1', '12.20'), ('item2', '15.10'), ('item3', '24.5')]\n",
      "[('item3', '24.5'), ('item2', '15.10'), ('item1', '12.20')]\n"
     ]
    }
   ],
   "source": [
    "#question5:\n",
    "t=int(input(\"insert your list lengh : \"))\n",
    "while t<=0:\n",
    "    t=int(input(\"insert your list lengh : \"))\n",
    "l=[]\n",
    "for i in range (1,t+1):\n",
    "    s=\"item\"+str(i)\n",
    "    s1=input(\"insert the value2 in your tuple : \")\n",
    "    \n",
    "    tu=(s,s1)\n",
    "    l.append(tu)\n",
    "print(l)\n",
    "def keyfloat(k):\n",
    "    k=k[1]\n",
    "    \n",
    "    return(k)\n",
    "l.sort(key=keyfloat,reverse=True)\n",
    "print(l)\n"
   ]
  },
  {
   "cell_type": "code",
   "execution_count": null,
   "id": "9ebba6ef",
   "metadata": {},
   "outputs": [],
   "source": []
  }
 ],
 "metadata": {
  "kernelspec": {
   "display_name": "Python 3",
   "language": "python",
   "name": "python3"
  },
  "language_info": {
   "codemirror_mode": {
    "name": "ipython",
    "version": 3
   },
   "file_extension": ".py",
   "mimetype": "text/x-python",
   "name": "python",
   "nbconvert_exporter": "python",
   "pygments_lexer": "ipython3",
   "version": "3.8.8"
  }
 },
 "nbformat": 4,
 "nbformat_minor": 5
}
